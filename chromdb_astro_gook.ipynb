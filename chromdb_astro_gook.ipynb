{
 "cells": [
  {
   "cell_type": "code",
   "execution_count": 1,
   "metadata": {},
   "outputs": [],
   "source": [
    "def warn(*args, **kwargs):\n",
    "    pass\n",
    "import warnings\n",
    "warnings.warn = warn\n",
    "warnings.filterwarnings('ignore')\n",
    "\n",
    "from langchain.document_loaders import PyPDFLoader\n",
    "from langchain.text_splitter import CharacterTextSplitter\n",
    "from langchain.vectorstores import Chroma\n",
    "from langchain.embeddings import HuggingFaceEmbeddings\n",
    "from langchain.chains import RetrievalQA\n",
    "# from langchain.prompts import PromptTemplate\n",
    "# from langchain.chains import ConversationalRetrievalChain\n",
    "# from langchain.memory import ConversationBufferMemory\n",
    "\n",
    "\n"
   ]
  },
  {
   "cell_type": "markdown",
   "metadata": {},
   "source": [
    "# Load and Text Splitter \n",
    "Use langchain PyPDFLoader to load data in data file of astro_book_data.\n",
    "Use Text Splitter to split pdf into chunks."
   ]
  },
  {
   "cell_type": "code",
   "execution_count": 19,
   "metadata": {},
   "outputs": [],
   "source": [
    "import os\n",
    "path = \"astro_book_data\"\n",
    "items = os.listdir(path)\n",
    "documents = []\n",
    "for filename in items:\n",
    "    loader = PyPDFLoader(path + \"/\" + filename)\n",
    "    documents.append(loader.load())"
   ]
  },
  {
   "cell_type": "code",
   "execution_count": 21,
   "metadata": {},
   "outputs": [
    {
     "name": "stdout",
     "output_type": "stream",
     "text": [
      "4\n",
      "145\n"
     ]
    }
   ],
   "source": [
    "print(len(documents))\n",
    "print(len(documents[0]))"
   ]
  },
  {
   "cell_type": "code",
   "execution_count": 28,
   "metadata": {},
   "outputs": [
    {
     "name": "stdout",
     "output_type": "stream",
     "text": [
      "page_content='ASTROLOGY AS A NEW MODEL OF REALITY \n",
      "THE PHILOSOPHY OF ASTROLOGY AND ITS RELATION TO JUNGIAN \n",
      "PSYCHOLOGY \n",
      "  \n",
      "By:Michael McMullin \n",
      "1993 \n",
      "INTRODUCTION \n",
      "Part One : The Psychological Types. \n",
      "Chapter one: Astrology and the Psychological Types. \n",
      "Chapter Two: The Philosophy of the Types.\n",
      "Part Two: Non-Aristotelian Logic. \n",
      "Chapter Three: Levels of Reality. \n",
      "Chapter Four: \"Think in Other Categories\".\n",
      "Part Three: The Planetary Archetypes. \n",
      "Chapter Five: The Inner Planets. \n",
      "Chapter Six: Jupiter and Saturn.\n",
      "Part Four: Beethoven. \n",
      "Beethoven: The Outer Planets and the Embodiment of an Archetype.\n",
      "Postscript \n",
      "Appendix \n",
      "Synopsis \n",
      "  \n",
      "PART ONE \n",
      "THE PSYCHOLOGICAL TYPES \n",
      "  \n",
      "INTRODUCTION\n",
      "We live in an extraordinarily compartmentalised society, in our thinking, a society of \n",
      "enclaves, and of innumerable culs-de-sac, all studiously disconnected with one another. It is a \n",
      "state of affairs resembling the fishing communities on the coast of Newfoundland, where life \n",
      "is quite primitive and climate and natural conditions very severe. The communities are \n",
      "diverse, belonging to various sects and creeds such as Plymouth Brethren, Irish Catholic or \n",
      "Presbyterian, and they are separated from one another by deep fjords and inlets of the sea, so' metadata={'producer': 'OpenOffice.org 2.2', 'creator': 'Writer', 'creationdate': '2009-05-19T11:44:13-05:00', 'author': 'Desiderio Valacco', 'source': 'astro_book_data/Astrology-as-a-New-Model-of-Reality -- Michael-McMullen -- e34f168a9072b9c6a4c089a942adafe4 -- Anna’s Archive.pdf', 'total_pages': 145, 'page': 0, 'page_label': '1'}\n"
     ]
    }
   ],
   "source": [
    "texts = []\n",
    "for document in documents:\n",
    "    text_splitter = CharacterTextSplitter(chunk_size=1000, chunk_overlap=50)\n",
    "    text = text_splitter.split_documents(document)\n",
    "    for item in text:\n",
    "        texts.append(item)\n",
    "print(texts[0])"
   ]
  },
  {
   "cell_type": "code",
   "execution_count": 33,
   "metadata": {},
   "outputs": [
    {
     "name": "stdout",
     "output_type": "stream",
     "text": [
      "document ingested\n"
     ]
    }
   ],
   "source": [
    "embeddings = HuggingFaceEmbeddings()\n",
    "docsearch = Chroma.from_documents(texts, embeddings,persist_directory=\"./chromadb_store\")  # store the embedding in docsearch using Chromadb\n",
    "print('document ingested')"
   ]
  },
  {
   "cell_type": "code",
   "execution_count": 34,
   "metadata": {},
   "outputs": [],
   "source": [
    "# Save to disk\n",
    "docsearch.persist()"
   ]
  },
  {
   "cell_type": "code",
   "execution_count": 35,
   "metadata": {},
   "outputs": [
    {
     "name": "stdout",
     "output_type": "stream",
     "text": [
      "[Document(metadata={'author': 'Isabel M. Hickey', 'creationdate': '2025-06-10T03:37:13+00:00', 'creator': '', 'moddate': '2025-06-10T03:37:18+00:00', 'page': 221, 'page_label': '222', 'producer': 'ConvertAPI', 'source': 'astro_book_data/Astrology_ A Cosmic Science_ The Classic Work on Spiritual -- Arroyo, Stephen; Hickey, Isabel M_ -- New revised & combined edition, Sebastopol, Calif, -- 9780916360634 -- f3a41ee362769cb9829a9316.pdf', 'title': 'Astrology, A Cosmic Science', 'total_pages': 445}, page_content=\"guard against nerve strain and tension. Test lies in learning to have faith and\\noptimistic viewpoints in mental attitudes toward life. Inclined to be negative\\nin approach with Saturn afflicted in this sign.\\nSATURN IN CANCER (Detriment)\\nEmotions too crystallized. May come, not from innate selfishness, but\\nfrom a hurt to the feelings early in life or by a parent. The result would be\\nthat he would build up a self-protective coating where emotions are\\nconcerned. Can be kind but finds it hard to put himself in the other fellow's\\nshoes. An ambitious and shrewd person to whom material things are very\\nimportant. Apt to withdraw from too close emotional involvements. Lack of\\nrelationships can lead to aloneness in old age. Psychic tendencies strong.\\nTest of Saturn in this sign is the need to learn the value of responsibility and\\nempathy.\\nSATURN IN LEO (Detriment)\\nHeart center needs developing. Constriction where heart is concerned,\\npsychically as well as physically. Great pride and often too strong an ego\\ndrive for power. Very strong willed. Disappointment through love and\\nchildren if Saturn is afflicted. Great mental vitality that can be overpowering\\nto the other fellow. Hasn't been a loving person in past lifetimes, and is often\\ndenied the love he seeks in this lifetime until his spiritual bookkeeping is\\nbalanced. Can be reserved and cautious. Saturn tests for true humility and\\nlovingness, in this sign.\\nSATURN IN VIRGO\\nGives orderly, critical, analytical mind. Needs to cultivate a sense of\\nhumor. Life is very serious for this individual. Good worker but apt to have\\ndifficulties in working relationships due to over-criticalness. Difficulties in\\nassimilating the experiences that life brings can give nervous complaints. Apt\\nto have an irritable disposition if Saturn is afflicted. Nagging could be a\\ndetriment that the individual should eliminate. A tendency to worry over\\ninconsequentials needs to be overcome. This position of Saturn makes a good\\nresearcher. a scientist or one who works in accounting or bookkeeping. A job\\nthat involves a great deal of detail will not bother him. Test is the lesson of\\ndiscrimination between what is important and what is not.\"), Document(metadata={'author': 'Isabel M. Hickey', 'creationdate': '2025-06-10T03:37:13+00:00', 'creator': '', 'moddate': '2025-06-10T03:37:18+00:00', 'page': 198, 'page_label': '199', 'producer': 'ConvertAPI', 'source': 'astro_book_data/Astrology_ A Cosmic Science_ The Classic Work on Spiritual -- Arroyo, Stephen; Hickey, Isabel M_ -- New revised & combined edition, Sebastopol, Calif, -- 9780916360634 -- f3a41ee362769cb9829a9316.pdf', 'title': 'Astrology, A Cosmic Science', 'total_pages': 445}, page_content=\"CHAPTER 15\\nVenus in the Signs and Houses\\nVENUS IN ARIES (Detriment)\\nVenus is in its detriment sign. Here is “self” satisfaction. Where Venus\\nloves she is apt to do much for the loved one, but in this position she is apt to\\nlove herself through the loved one. A tendency to touchiness and is apt to be\\neasily offended due to self love. Apt to be inconsiderate of others without\\nrealizing it. This is a love springing into activity with ardor and enthusasm,\\nbut not a sustaining and nurturing kind of caring. Passion and aggressiveness\\ncan be strong, thus Venus may lose her sweetness in this sign. The lesson\\nneeded with this placement is the ability to put one-self in the other fellow's\\nshoes. In spite of an impulsive approach to love, Venus in Aries is idealistic,\\nand is always seeking outwardly that which can only be found within. There\\nis a tendency to lack stability for Venus can tire quickly and change her mind\\noften in the impulsive, restless sign of Aries.\\nVENUS IN TAURUS (Ruler)\\nVenus is the ruler of Taurus and is powerful in an earthy sense in this\\nsign. Physical and sensual responses to emotions and feelings are strongly\\naccentuated. Demonstrative and affectionate as well as passionate and\\nextremely possessive. Material possessions are important because Taurus is\\nthe sign that brings everything into focus on the material plane. Emotions\\ncolor the life. Fond of comfort. Can have a pleasing voice. Strong\\ndomesticity. Good disposition if not heavily afflicted. Very stubborn in a\\nquiet and unassuming way. Loyal in friendships and in love if jealousy and\\nresentment do not enter in.\\nVENUS IN GEMINI\\nHere is the light, airy, charming, superficial Venus if she does not have\\nfixed signs to balance her forces. Great charm, wit, and expressiveness.\\nUnderstands passion but does not feel it too strongly. Emotions are sifted\"), Document(metadata={'author': 'Isabel M. Hickey', 'creationdate': '2025-06-10T03:37:13+00:00', 'creator': '', 'moddate': '2025-06-10T03:37:18+00:00', 'page': 208, 'page_label': '209', 'producer': 'ConvertAPI', 'source': 'astro_book_data/Astrology_ A Cosmic Science_ The Classic Work on Spiritual -- Arroyo, Stephen; Hickey, Isabel M_ -- New revised & combined edition, Sebastopol, Calif, -- 9780916360634 -- f3a41ee362769cb9829a9316.pdf', 'title': 'Astrology, A Cosmic Science', 'total_pages': 445}, page_content='Mars is not well placed in Taurus where it is in detriment. Mars is\\npersistent and patient in this sign but also extremely stubborn, jealous and\\npossessive. Money and sex are important. Values need refining for they are of\\nthe earth, earthy. Security whether invested in money or people is important.\\nAcquisitiveness is strong as is pride. If Mars is afflicted there is a tendency\\nto resentfulness. Selfishness and too strong a possessiveness must be\\novercome. Sharing must be cultivated as a quality. Apt to be penurious.\\nMARS IN GEMINI\\nAlert, energetic, witty, sarcastic, often strife with relatives and friends.\\nEnergizes the tongue too much and makes it sharp and caustic. Can be the\\ngossip and can have a forked tongue. If afflicted, not trustworthy. Lively,\\nmechanical minded, and capable of doing many things well. Has to learn to\\nconserve energy and direct it wisely. Otherwise the nervous system gives\\ntrouble. Biggest fault is failing to follow through and keep promises. This is\\nwhy it is undependable. Scatters force and needs to learn concentration of\\npower.\\nMARS IN CANCER (Fall)\\nVery sensitive. Over-emotional. There are difficulties with digestion due\\nto emotions. Strife in home conditions. Ambitious and hard workers, but\\nchangeable. Very domesticated. Can not fight for is not aggressive outwardly.\\nHolds everything in and steams inside. Timidity is strong if there are not\\nother positive energies to help. Very sensitive stomach. Should not put juices\\non an empty stomach for it irritates the stomach linings. People with Mars in\\nCancer have a “red” stomach so acids can give upsets. Should not eat when\\ntired or upset. Digestion strongly affected by moods and feelings.\\nMARS IN LEO\\nHere is energy plus. Leo is a fire sign, and Mars is a fire planet.\\nDramatic, enthusiastic, ambitious and passionate. Have no intention of taking\\na back seat to anyone unless there is a strong Neptune in the chart to nullify\\nthe ego. Quarrelsome and jealous where those he loves are concerned if\\nMars is afflicted. Hates to be wrong and can be extremely fixed in\\nconvictions and opinions. Tremendous vitality and courage. Can have heart\\ntrouble if he overdoes physically.'), Document(metadata={'author': 'Isabel M. Hickey', 'creationdate': '2025-06-10T03:37:13+00:00', 'creator': '', 'moddate': '2025-06-10T03:37:18+00:00', 'page': 18, 'page_label': '19', 'producer': 'ConvertAPI', 'source': 'astro_book_data/Astrology_ A Cosmic Science_ The Classic Work on Spiritual -- Arroyo, Stephen; Hickey, Isabel M_ -- New revised & combined edition, Sebastopol, Calif, -- 9780916360634 -- f3a41ee362769cb9829a9316.pdf', 'title': 'Astrology, A Cosmic Science', 'total_pages': 445}, page_content='CHAPTER 2\\nThe Twelve Signs of the Zodiac\\nARIES:\\nRuled by Mars. Cardinal, fire sign. Positive and masculine sign. March 21st\\nto April 21st. Keyword: I AM. ‘The uprushing fountain of Life. Fire of the\\nhead. The untamed fire of Impulse.” In the physical body Aries rules the\\nhead. Aries is symbolized by the Ram.\\nTAURUS:\\nRuled by Venus. Fixed, earth sign. Feminine and receptive sign. April 21st\\nto May 21st. Keyword: I HAVE. “The freshly plowed earth of springtime,\\nready for the seed.” In the physical body, Taurus rules the throat and\\ncerebellum, the back part of the brain. Taurus is sym- bolizd by the Bull.\\nGEMINI:\\nRuled by Mercury. Mutable, air sign. Neutral in expression, for it is a\\ncombination of male and female in a subtle way. It is a positive sign so it is\\nlisted as a masculine sign. May 21st to June 21st. Keyword: I THINK. “The\\nlight, changeable breeze of early summer. Here today and gone tomorrow but')]\n"
     ]
    }
   ],
   "source": [
    "# Load Chroma\n",
    "embeddings = HuggingFaceEmbeddings()\n",
    "\n",
    "# Load from disk\n",
    "docsearch = Chroma(persist_directory=\"./chromadb_store\", embedding_function=embeddings)\n",
    "\n",
    "# Now you can use docsearch like before\n",
    "results = docsearch.similarity_search(\"test document\")\n",
    "print(results)"
   ]
  },
  {
   "cell_type": "markdown",
   "metadata": {},
   "source": [
    "# 前面完成了"
   ]
  },
  {
   "cell_type": "code",
   "execution_count": null,
   "metadata": {},
   "outputs": [],
   "source": [
    "from ibm_watsonx_ai.foundation_models import Model\n",
    "from ibm_watsonx_ai.metanames import GenTextParamsMetaNames as GenParams\n",
    "from ibm_watsonx_ai.foundation_models.utils.enums import ModelTypes, DecodingMethods\n",
    "from ibm_watson_machine_learning.foundation_models.extensions.langchain import WatsonxLLM\n",
    "model_id = 'google/flan-ul2'\n",
    "parameters = {\n",
    "    GenParams.DECODING_METHOD: DecodingMethods.GREEDY,  \n",
    "    GenParams.MIN_NEW_TOKENS: 130, # this controls the minimum number of tokens in the generated output\n",
    "    GenParams.MAX_NEW_TOKENS: 256,  # this controls the maximum number of tokens in the generated output\n",
    "    GenParams.TEMPERATURE: 0.5 # this randomness or creativity of the model's responses\n",
    "}\n",
    "credentials = {\n",
    "    \"url\": \"https://us-south.ml.cloud.ibm.com\"\n",
    "}\n",
    "\n",
    "project_id = \"skills-network\"\n",
    "model = Model(\n",
    "    model_id=model_id,\n",
    "    params=parameters,\n",
    "    credentials=credentials,\n",
    "    project_id=project_id\n",
    ")\n",
    "flan_ul2_llm = WatsonxLLM(model=model)"
   ]
  },
  {
   "cell_type": "code",
   "execution_count": null,
   "metadata": {},
   "outputs": [],
   "source": [
    "from langchain_google_genai import GoogleGenerativeAI\n",
    "from langchain_google_genai import HarmBlockThreshold, HarmCategory\n",
    "import os\n",
    "\n",
    "# 設定 API 金鑰 (建議使用環境變數)\n",
    "os.environ[\"GOOGLE_API_KEY\"] = \"your-google-api-key\"\n",
    "# 或者直接在初始化時傳入: google_api_key=\"your-api-key\"\n",
    "\n",
    "# 模型 ID 對應\n",
    "model_id = ''  # 對應原本的 'google/flan-ul2'\n",
    "\n",
    "# 參數設定 (對應原本的 parameters 字典)\n",
    "parameters = {\n",
    "    \"temperature\": 0.5,        # 對應原本的 TEMPERATURE\n",
    "    \"max_output_tokens\": 256,  # 對應原本的 MAX_NEW_TOKENS\n",
    "    \"top_p\": 0.8,             # Google 特有參數\n",
    "    \"top_k\": 40,              # Google 特有參數\n",
    "}\n",
    "\n",
    "# 安全設定 (Google API 特有)\n",
    "safety_settings = {\n",
    "    HarmCategory.HARM_CATEGORY_DANGEROUS_CONTENT: HarmBlockThreshold.BLOCK_NONE,\n",
    "    HarmCategory.HARM_CATEGORY_HATE_SPEECH: HarmBlockThreshold.BLOCK_NONE,\n",
    "    HarmCategory.HARM_CATEGORY_HARASSMENT: HarmBlockThreshold.BLOCK_NONE,\n",
    "    HarmCategory.HARM_CATEGORY_SEXUALLY_EXPLICIT: HarmBlockThreshold.BLOCK_NONE,\n",
    "}\n",
    "\n",
    "# 創建 LangChain 相容的 LLM 實例 (完全對應原本的格式)\n",
    "flan_ul2_llm = GoogleGenerativeAI(\n",
    "    model=model_id,\n",
    "    google_api_key=os.getenv(\"GOOGLE_API_KEY\"),  # 可選，如果已設定環境變數\n",
    "    temperature=parameters[\"temperature\"],\n",
    "    max_output_tokens=parameters[\"max_output_tokens\"],\n",
    "    top_p=parameters[\"top_p\"],\n",
    "    top_k=parameters[\"top_k\"],\n",
    "    safety_settings=safety_settings\n",
    ")"
   ]
  },
  {
   "cell_type": "code",
   "execution_count": null,
   "metadata": {},
   "outputs": [],
   "source": [
    "qa = RetrievalQA.from_chain_type(llm=flan_ul2_llm, \n",
    "                                 chain_type=\"stuff\", \n",
    "                                 retriever=docsearch.as_retriever(), \n",
    "                                 return_source_documents=False)\n",
    "query = \"what is mobile policy?\"\n",
    "qa.invoke(query)"
   ]
  }
 ],
 "metadata": {
  "kernelspec": {
   "display_name": "astro",
   "language": "python",
   "name": "python3"
  },
  "language_info": {
   "codemirror_mode": {
    "name": "ipython",
    "version": 3
   },
   "file_extension": ".py",
   "mimetype": "text/x-python",
   "name": "python",
   "nbconvert_exporter": "python",
   "pygments_lexer": "ipython3",
   "version": "3.11.12"
  }
 },
 "nbformat": 4,
 "nbformat_minor": 2
}
